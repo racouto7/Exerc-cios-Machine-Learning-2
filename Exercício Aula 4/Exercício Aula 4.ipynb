{
 "cells": [
  {
   "cell_type": "markdown",
   "id": "d7746780",
   "metadata": {},
   "source": [
    "# Exercício Aula 4 - Rafael Couto\n",
    "Usar pipeline, usar grid/search random, usar um dataset para fazer regressão"
   ]
  },
  {
   "cell_type": "code",
   "execution_count": 1,
   "id": "797d3ed3",
   "metadata": {},
   "outputs": [],
   "source": [
    "#Bibliotecas\n",
    "import pandas as pd\n",
    "import numpy as np\n",
    "import matplotlib.pyplot as plt\n",
    "\n",
    "from sklearn.model_selection import train_test_split\n",
    "\n",
    "from sklearn.metrics import mean_squared_error, r2_score,confusion_matrix, accuracy_score, classification_report, precision_score, recall_score, f1_score\n",
    "\n",
    "\n",
    "from sklearn.pipeline import Pipeline\n",
    "from sklearn.preprocessing import MinMaxScaler\n",
    "\n",
    "from sklearn.model_selection import GridSearchCV\n",
    "\n",
    "\n",
    "from xgboost import XGBRegressor"
   ]
  },
  {
   "cell_type": "code",
   "execution_count": 2,
   "id": "3bf83173",
   "metadata": {},
   "outputs": [],
   "source": [
    "#Carregando dataset\n",
    "df=pd.read_parquet('spotify_songs.parquet')"
   ]
  },
  {
   "cell_type": "code",
   "execution_count": 3,
   "id": "5f7dd09f",
   "metadata": {},
   "outputs": [
    {
     "data": {
      "text/html": [
       "<div>\n",
       "<style scoped>\n",
       "    .dataframe tbody tr th:only-of-type {\n",
       "        vertical-align: middle;\n",
       "    }\n",
       "\n",
       "    .dataframe tbody tr th {\n",
       "        vertical-align: top;\n",
       "    }\n",
       "\n",
       "    .dataframe thead th {\n",
       "        text-align: right;\n",
       "    }\n",
       "</style>\n",
       "<table border=\"1\" class=\"dataframe\">\n",
       "  <thead>\n",
       "    <tr style=\"text-align: right;\">\n",
       "      <th></th>\n",
       "      <th>track_name</th>\n",
       "      <th>track_artist</th>\n",
       "      <th>track_popularity</th>\n",
       "      <th>track_album_id</th>\n",
       "      <th>track_album_name</th>\n",
       "      <th>track_album_release_date</th>\n",
       "      <th>playlist_name</th>\n",
       "      <th>playlist_id</th>\n",
       "      <th>playlist_genre</th>\n",
       "      <th>playlist_subgenre</th>\n",
       "      <th>...</th>\n",
       "      <th>key</th>\n",
       "      <th>loudness</th>\n",
       "      <th>mode</th>\n",
       "      <th>speechiness</th>\n",
       "      <th>acousticness</th>\n",
       "      <th>instrumentalness</th>\n",
       "      <th>liveness</th>\n",
       "      <th>valence</th>\n",
       "      <th>tempo</th>\n",
       "      <th>duration_ms</th>\n",
       "    </tr>\n",
       "    <tr>\n",
       "      <th>track_id</th>\n",
       "      <th></th>\n",
       "      <th></th>\n",
       "      <th></th>\n",
       "      <th></th>\n",
       "      <th></th>\n",
       "      <th></th>\n",
       "      <th></th>\n",
       "      <th></th>\n",
       "      <th></th>\n",
       "      <th></th>\n",
       "      <th></th>\n",
       "      <th></th>\n",
       "      <th></th>\n",
       "      <th></th>\n",
       "      <th></th>\n",
       "      <th></th>\n",
       "      <th></th>\n",
       "      <th></th>\n",
       "      <th></th>\n",
       "      <th></th>\n",
       "      <th></th>\n",
       "    </tr>\n",
       "  </thead>\n",
       "  <tbody>\n",
       "    <tr>\n",
       "      <th>6f807x0ima9a1j3VPbc7VN</th>\n",
       "      <td>I Don't Care (with Justin Bieber) - Loud Luxur...</td>\n",
       "      <td>Ed Sheeran</td>\n",
       "      <td>66</td>\n",
       "      <td>2oCs0DGTsRO98Gh5ZSl2Cx</td>\n",
       "      <td>I Don't Care (with Justin Bieber) [Loud Luxury...</td>\n",
       "      <td>2019-06-14</td>\n",
       "      <td>Pop Remix</td>\n",
       "      <td>37i9dQZF1DXcZDD7cfEKhW</td>\n",
       "      <td>pop</td>\n",
       "      <td>dance pop</td>\n",
       "      <td>...</td>\n",
       "      <td>6</td>\n",
       "      <td>-2.634</td>\n",
       "      <td>1</td>\n",
       "      <td>0.0583</td>\n",
       "      <td>0.1020</td>\n",
       "      <td>0.000000</td>\n",
       "      <td>0.0653</td>\n",
       "      <td>0.518</td>\n",
       "      <td>122.036</td>\n",
       "      <td>194754</td>\n",
       "    </tr>\n",
       "    <tr>\n",
       "      <th>0r7CVbZTWZgbTCYdfa2P31</th>\n",
       "      <td>Memories - Dillon Francis Remix</td>\n",
       "      <td>Maroon 5</td>\n",
       "      <td>67</td>\n",
       "      <td>63rPSO264uRjW1X5E6cWv6</td>\n",
       "      <td>Memories (Dillon Francis Remix)</td>\n",
       "      <td>2019-12-13</td>\n",
       "      <td>Pop Remix</td>\n",
       "      <td>37i9dQZF1DXcZDD7cfEKhW</td>\n",
       "      <td>pop</td>\n",
       "      <td>dance pop</td>\n",
       "      <td>...</td>\n",
       "      <td>11</td>\n",
       "      <td>-4.969</td>\n",
       "      <td>1</td>\n",
       "      <td>0.0373</td>\n",
       "      <td>0.0724</td>\n",
       "      <td>0.004210</td>\n",
       "      <td>0.3570</td>\n",
       "      <td>0.693</td>\n",
       "      <td>99.972</td>\n",
       "      <td>162600</td>\n",
       "    </tr>\n",
       "    <tr>\n",
       "      <th>1z1Hg7Vb0AhHDiEmnDE79l</th>\n",
       "      <td>All the Time - Don Diablo Remix</td>\n",
       "      <td>Zara Larsson</td>\n",
       "      <td>70</td>\n",
       "      <td>1HoSmj2eLcsrR0vE9gThr4</td>\n",
       "      <td>All the Time (Don Diablo Remix)</td>\n",
       "      <td>2019-07-05</td>\n",
       "      <td>Pop Remix</td>\n",
       "      <td>37i9dQZF1DXcZDD7cfEKhW</td>\n",
       "      <td>pop</td>\n",
       "      <td>dance pop</td>\n",
       "      <td>...</td>\n",
       "      <td>1</td>\n",
       "      <td>-3.432</td>\n",
       "      <td>0</td>\n",
       "      <td>0.0742</td>\n",
       "      <td>0.0794</td>\n",
       "      <td>0.000023</td>\n",
       "      <td>0.1100</td>\n",
       "      <td>0.613</td>\n",
       "      <td>124.008</td>\n",
       "      <td>176616</td>\n",
       "    </tr>\n",
       "    <tr>\n",
       "      <th>75FpbthrwQmzHlBJLuGdC7</th>\n",
       "      <td>Call You Mine - Keanu Silva Remix</td>\n",
       "      <td>The Chainsmokers</td>\n",
       "      <td>60</td>\n",
       "      <td>1nqYsOef1yKKuGOVchbsk6</td>\n",
       "      <td>Call You Mine - The Remixes</td>\n",
       "      <td>2019-07-19</td>\n",
       "      <td>Pop Remix</td>\n",
       "      <td>37i9dQZF1DXcZDD7cfEKhW</td>\n",
       "      <td>pop</td>\n",
       "      <td>dance pop</td>\n",
       "      <td>...</td>\n",
       "      <td>7</td>\n",
       "      <td>-3.778</td>\n",
       "      <td>1</td>\n",
       "      <td>0.1020</td>\n",
       "      <td>0.0287</td>\n",
       "      <td>0.000009</td>\n",
       "      <td>0.2040</td>\n",
       "      <td>0.277</td>\n",
       "      <td>121.956</td>\n",
       "      <td>169093</td>\n",
       "    </tr>\n",
       "    <tr>\n",
       "      <th>1e8PAfcKUYoKkxPhrHqw4x</th>\n",
       "      <td>Someone You Loved - Future Humans Remix</td>\n",
       "      <td>Lewis Capaldi</td>\n",
       "      <td>69</td>\n",
       "      <td>7m7vv9wlQ4i0LFuJiE2zsQ</td>\n",
       "      <td>Someone You Loved (Future Humans Remix)</td>\n",
       "      <td>2019-03-05</td>\n",
       "      <td>Pop Remix</td>\n",
       "      <td>37i9dQZF1DXcZDD7cfEKhW</td>\n",
       "      <td>pop</td>\n",
       "      <td>dance pop</td>\n",
       "      <td>...</td>\n",
       "      <td>1</td>\n",
       "      <td>-4.672</td>\n",
       "      <td>1</td>\n",
       "      <td>0.0359</td>\n",
       "      <td>0.0803</td>\n",
       "      <td>0.000000</td>\n",
       "      <td>0.0833</td>\n",
       "      <td>0.725</td>\n",
       "      <td>123.976</td>\n",
       "      <td>189052</td>\n",
       "    </tr>\n",
       "  </tbody>\n",
       "</table>\n",
       "<p>5 rows × 22 columns</p>\n",
       "</div>"
      ],
      "text/plain": [
       "                                                               track_name   \n",
       "track_id                                                                    \n",
       "6f807x0ima9a1j3VPbc7VN  I Don't Care (with Justin Bieber) - Loud Luxur...  \\\n",
       "0r7CVbZTWZgbTCYdfa2P31                    Memories - Dillon Francis Remix   \n",
       "1z1Hg7Vb0AhHDiEmnDE79l                    All the Time - Don Diablo Remix   \n",
       "75FpbthrwQmzHlBJLuGdC7                  Call You Mine - Keanu Silva Remix   \n",
       "1e8PAfcKUYoKkxPhrHqw4x            Someone You Loved - Future Humans Remix   \n",
       "\n",
       "                            track_artist  track_popularity   \n",
       "track_id                                                     \n",
       "6f807x0ima9a1j3VPbc7VN        Ed Sheeran                66  \\\n",
       "0r7CVbZTWZgbTCYdfa2P31          Maroon 5                67   \n",
       "1z1Hg7Vb0AhHDiEmnDE79l      Zara Larsson                70   \n",
       "75FpbthrwQmzHlBJLuGdC7  The Chainsmokers                60   \n",
       "1e8PAfcKUYoKkxPhrHqw4x     Lewis Capaldi                69   \n",
       "\n",
       "                                track_album_id   \n",
       "track_id                                         \n",
       "6f807x0ima9a1j3VPbc7VN  2oCs0DGTsRO98Gh5ZSl2Cx  \\\n",
       "0r7CVbZTWZgbTCYdfa2P31  63rPSO264uRjW1X5E6cWv6   \n",
       "1z1Hg7Vb0AhHDiEmnDE79l  1HoSmj2eLcsrR0vE9gThr4   \n",
       "75FpbthrwQmzHlBJLuGdC7  1nqYsOef1yKKuGOVchbsk6   \n",
       "1e8PAfcKUYoKkxPhrHqw4x  7m7vv9wlQ4i0LFuJiE2zsQ   \n",
       "\n",
       "                                                         track_album_name   \n",
       "track_id                                                                    \n",
       "6f807x0ima9a1j3VPbc7VN  I Don't Care (with Justin Bieber) [Loud Luxury...  \\\n",
       "0r7CVbZTWZgbTCYdfa2P31                    Memories (Dillon Francis Remix)   \n",
       "1z1Hg7Vb0AhHDiEmnDE79l                    All the Time (Don Diablo Remix)   \n",
       "75FpbthrwQmzHlBJLuGdC7                        Call You Mine - The Remixes   \n",
       "1e8PAfcKUYoKkxPhrHqw4x            Someone You Loved (Future Humans Remix)   \n",
       "\n",
       "                       track_album_release_date playlist_name   \n",
       "track_id                                                        \n",
       "6f807x0ima9a1j3VPbc7VN               2019-06-14     Pop Remix  \\\n",
       "0r7CVbZTWZgbTCYdfa2P31               2019-12-13     Pop Remix   \n",
       "1z1Hg7Vb0AhHDiEmnDE79l               2019-07-05     Pop Remix   \n",
       "75FpbthrwQmzHlBJLuGdC7               2019-07-19     Pop Remix   \n",
       "1e8PAfcKUYoKkxPhrHqw4x               2019-03-05     Pop Remix   \n",
       "\n",
       "                                   playlist_id playlist_genre   \n",
       "track_id                                                        \n",
       "6f807x0ima9a1j3VPbc7VN  37i9dQZF1DXcZDD7cfEKhW            pop  \\\n",
       "0r7CVbZTWZgbTCYdfa2P31  37i9dQZF1DXcZDD7cfEKhW            pop   \n",
       "1z1Hg7Vb0AhHDiEmnDE79l  37i9dQZF1DXcZDD7cfEKhW            pop   \n",
       "75FpbthrwQmzHlBJLuGdC7  37i9dQZF1DXcZDD7cfEKhW            pop   \n",
       "1e8PAfcKUYoKkxPhrHqw4x  37i9dQZF1DXcZDD7cfEKhW            pop   \n",
       "\n",
       "                       playlist_subgenre  ...  key  loudness  mode   \n",
       "track_id                                  ...                        \n",
       "6f807x0ima9a1j3VPbc7VN         dance pop  ...    6    -2.634     1  \\\n",
       "0r7CVbZTWZgbTCYdfa2P31         dance pop  ...   11    -4.969     1   \n",
       "1z1Hg7Vb0AhHDiEmnDE79l         dance pop  ...    1    -3.432     0   \n",
       "75FpbthrwQmzHlBJLuGdC7         dance pop  ...    7    -3.778     1   \n",
       "1e8PAfcKUYoKkxPhrHqw4x         dance pop  ...    1    -4.672     1   \n",
       "\n",
       "                        speechiness  acousticness  instrumentalness  liveness   \n",
       "track_id                                                                        \n",
       "6f807x0ima9a1j3VPbc7VN       0.0583        0.1020          0.000000    0.0653  \\\n",
       "0r7CVbZTWZgbTCYdfa2P31       0.0373        0.0724          0.004210    0.3570   \n",
       "1z1Hg7Vb0AhHDiEmnDE79l       0.0742        0.0794          0.000023    0.1100   \n",
       "75FpbthrwQmzHlBJLuGdC7       0.1020        0.0287          0.000009    0.2040   \n",
       "1e8PAfcKUYoKkxPhrHqw4x       0.0359        0.0803          0.000000    0.0833   \n",
       "\n",
       "                        valence    tempo  duration_ms  \n",
       "track_id                                               \n",
       "6f807x0ima9a1j3VPbc7VN    0.518  122.036       194754  \n",
       "0r7CVbZTWZgbTCYdfa2P31    0.693   99.972       162600  \n",
       "1z1Hg7Vb0AhHDiEmnDE79l    0.613  124.008       176616  \n",
       "75FpbthrwQmzHlBJLuGdC7    0.277  121.956       169093  \n",
       "1e8PAfcKUYoKkxPhrHqw4x    0.725  123.976       189052  \n",
       "\n",
       "[5 rows x 22 columns]"
      ]
     },
     "execution_count": 3,
     "metadata": {},
     "output_type": "execute_result"
    }
   ],
   "source": [
    "df.head()"
   ]
  },
  {
   "cell_type": "code",
   "execution_count": 4,
   "id": "e93d2501",
   "metadata": {},
   "outputs": [
    {
     "name": "stdout",
     "output_type": "stream",
     "text": [
      "<class 'pandas.core.frame.DataFrame'>\n",
      "Index: 32833 entries, 6f807x0ima9a1j3VPbc7VN to 29zWqhca3zt5NsckZqDf6c\n",
      "Data columns (total 22 columns):\n",
      " #   Column                    Non-Null Count  Dtype  \n",
      "---  ------                    --------------  -----  \n",
      " 0   track_name                32828 non-null  object \n",
      " 1   track_artist              32828 non-null  object \n",
      " 2   track_popularity          32833 non-null  int64  \n",
      " 3   track_album_id            32833 non-null  object \n",
      " 4   track_album_name          32828 non-null  object \n",
      " 5   track_album_release_date  32833 non-null  object \n",
      " 6   playlist_name             32833 non-null  object \n",
      " 7   playlist_id               32833 non-null  object \n",
      " 8   playlist_genre            32833 non-null  object \n",
      " 9   playlist_subgenre         32833 non-null  object \n",
      " 10  danceability              32833 non-null  float64\n",
      " 11  energy                    32833 non-null  float64\n",
      " 12  key                       32833 non-null  int64  \n",
      " 13  loudness                  32833 non-null  float64\n",
      " 14  mode                      32833 non-null  int64  \n",
      " 15  speechiness               32833 non-null  float64\n",
      " 16  acousticness              32833 non-null  float64\n",
      " 17  instrumentalness          32833 non-null  float64\n",
      " 18  liveness                  32833 non-null  float64\n",
      " 19  valence                   32833 non-null  float64\n",
      " 20  tempo                     32833 non-null  float64\n",
      " 21  duration_ms               32833 non-null  int64  \n",
      "dtypes: float64(9), int64(4), object(9)\n",
      "memory usage: 5.8+ MB\n"
     ]
    }
   ],
   "source": [
    "df.info()"
   ]
  },
  {
   "cell_type": "markdown",
   "id": "cb26cf4c",
   "metadata": {},
   "source": [
    "## Limpeza do dataset"
   ]
  },
  {
   "cell_type": "markdown",
   "id": "b0b18c91",
   "metadata": {},
   "source": [
    "Foram removidas as colunas `track_album_id` ,`track_album_name`,`track_album_release_date`,`playlist_name` e `playlist_id`."
   ]
  },
  {
   "cell_type": "code",
   "execution_count": 5,
   "id": "5139db9a",
   "metadata": {},
   "outputs": [],
   "source": [
    "#removendo colunas \n",
    "df = df.drop(columns=['track_album_id','track_album_name','track_album_release_date','playlist_name','playlist_id'])"
   ]
  },
  {
   "cell_type": "markdown",
   "id": "11d7630e",
   "metadata": {},
   "source": [
    "Vamos avaliar os possível valores nulos do dataset."
   ]
  },
  {
   "cell_type": "code",
   "execution_count": 6,
   "id": "a89a2dd4",
   "metadata": {},
   "outputs": [
    {
     "data": {
      "text/plain": [
       "track_name           5\n",
       "track_artist         5\n",
       "track_popularity     0\n",
       "playlist_genre       0\n",
       "playlist_subgenre    0\n",
       "danceability         0\n",
       "energy               0\n",
       "key                  0\n",
       "loudness             0\n",
       "mode                 0\n",
       "speechiness          0\n",
       "acousticness         0\n",
       "instrumentalness     0\n",
       "liveness             0\n",
       "valence              0\n",
       "tempo                0\n",
       "duration_ms          0\n",
       "dtype: int64"
      ]
     },
     "execution_count": 6,
     "metadata": {},
     "output_type": "execute_result"
    }
   ],
   "source": [
    "df.isnull().sum()"
   ]
  },
  {
   "cell_type": "code",
   "execution_count": 7,
   "id": "e1919c8c",
   "metadata": {},
   "outputs": [
    {
     "data": {
      "text/html": [
       "<div>\n",
       "<style scoped>\n",
       "    .dataframe tbody tr th:only-of-type {\n",
       "        vertical-align: middle;\n",
       "    }\n",
       "\n",
       "    .dataframe tbody tr th {\n",
       "        vertical-align: top;\n",
       "    }\n",
       "\n",
       "    .dataframe thead th {\n",
       "        text-align: right;\n",
       "    }\n",
       "</style>\n",
       "<table border=\"1\" class=\"dataframe\">\n",
       "  <thead>\n",
       "    <tr style=\"text-align: right;\">\n",
       "      <th></th>\n",
       "      <th>track_name</th>\n",
       "      <th>track_artist</th>\n",
       "      <th>track_popularity</th>\n",
       "    </tr>\n",
       "    <tr>\n",
       "      <th>track_id</th>\n",
       "      <th></th>\n",
       "      <th></th>\n",
       "      <th></th>\n",
       "    </tr>\n",
       "  </thead>\n",
       "  <tbody>\n",
       "    <tr>\n",
       "      <th>69gRFGOWY9OMpFJgFol1u0</th>\n",
       "      <td>None</td>\n",
       "      <td>None</td>\n",
       "      <td>0</td>\n",
       "    </tr>\n",
       "    <tr>\n",
       "      <th>5cjecvX0CmC9gK0Laf5EMQ</th>\n",
       "      <td>None</td>\n",
       "      <td>None</td>\n",
       "      <td>0</td>\n",
       "    </tr>\n",
       "    <tr>\n",
       "      <th>5TTzhRSWQS4Yu8xTgAuq6D</th>\n",
       "      <td>None</td>\n",
       "      <td>None</td>\n",
       "      <td>0</td>\n",
       "    </tr>\n",
       "    <tr>\n",
       "      <th>3VKFip3OdAvv4OfNTgFWeQ</th>\n",
       "      <td>None</td>\n",
       "      <td>None</td>\n",
       "      <td>0</td>\n",
       "    </tr>\n",
       "    <tr>\n",
       "      <th>69gRFGOWY9OMpFJgFol1u0</th>\n",
       "      <td>None</td>\n",
       "      <td>None</td>\n",
       "      <td>0</td>\n",
       "    </tr>\n",
       "  </tbody>\n",
       "</table>\n",
       "</div>"
      ],
      "text/plain": [
       "                       track_name track_artist  track_popularity\n",
       "track_id                                                        \n",
       "69gRFGOWY9OMpFJgFol1u0       None         None                 0\n",
       "5cjecvX0CmC9gK0Laf5EMQ       None         None                 0\n",
       "5TTzhRSWQS4Yu8xTgAuq6D       None         None                 0\n",
       "3VKFip3OdAvv4OfNTgFWeQ       None         None                 0\n",
       "69gRFGOWY9OMpFJgFol1u0       None         None                 0"
      ]
     },
     "execution_count": 7,
     "metadata": {},
     "output_type": "execute_result"
    }
   ],
   "source": [
    "df[df['track_name'].isnull()][['track_name','track_artist','track_popularity']]"
   ]
  },
  {
   "cell_type": "markdown",
   "id": "29f6f0c4",
   "metadata": {},
   "source": [
    "Verificamos que apenas 5 entradas não tem nome da música ou do artista. Essas 5 faixar também estão com a popularidade zerada. \n",
    "Vamos remover essas 5 entradas do dataset"
   ]
  },
  {
   "cell_type": "code",
   "execution_count": 8,
   "id": "bc406d8e",
   "metadata": {},
   "outputs": [],
   "source": [
    "df = df.dropna(subset=['track_name'])"
   ]
  },
  {
   "cell_type": "code",
   "execution_count": 9,
   "id": "99adef0c",
   "metadata": {},
   "outputs": [
    {
     "data": {
      "text/plain": [
       "track_name           0\n",
       "track_artist         0\n",
       "track_popularity     0\n",
       "playlist_genre       0\n",
       "playlist_subgenre    0\n",
       "danceability         0\n",
       "energy               0\n",
       "key                  0\n",
       "loudness             0\n",
       "mode                 0\n",
       "speechiness          0\n",
       "acousticness         0\n",
       "instrumentalness     0\n",
       "liveness             0\n",
       "valence              0\n",
       "tempo                0\n",
       "duration_ms          0\n",
       "dtype: int64"
      ]
     },
     "execution_count": 9,
     "metadata": {},
     "output_type": "execute_result"
    }
   ],
   "source": [
    "df.isnull().sum()"
   ]
  },
  {
   "cell_type": "markdown",
   "id": "dd4c3262",
   "metadata": {},
   "source": [
    "# Estabelecendo X,y"
   ]
  },
  {
   "cell_type": "code",
   "execution_count": 10,
   "id": "5e42b007",
   "metadata": {},
   "outputs": [],
   "source": [
    "X = df.drop(columns=['track_name','track_artist','track_popularity','playlist_genre','playlist_subgenre','key','mode'])\n",
    "y = df['track_popularity']"
   ]
  },
  {
   "cell_type": "markdown",
   "id": "77a8bf81",
   "metadata": {},
   "source": [
    "# Treinando Regressor por arvore de decisão"
   ]
  },
  {
   "cell_type": "code",
   "execution_count": 11,
   "id": "3799de4e",
   "metadata": {
    "scrolled": false
   },
   "outputs": [
    {
     "name": "stdout",
     "output_type": "stream",
     "text": [
      "Melhores parâmetros: {'xgbregressor__learning_rate': 0.1, 'xgbregressor__n_estimators': 400}\n",
      "\n",
      "Erro Quadrático Médio (MSE): 502.74\n",
      "\n",
      "Coeficiente de Determinação (R²): 0.19\n",
      "\n"
     ]
    },
    {
     "data": {
      "text/plain": [
       "<matplotlib.collections.PathCollection at 0x229a89add00>"
      ]
     },
     "execution_count": 11,
     "metadata": {},
     "output_type": "execute_result"
    },
    {
     "data": {
      "image/png": "[encoded data removed]",
      "text/plain": [
       "<Figure size 432x288 with 1 Axes>"
      ]
     },
     "metadata": {
      "needs_background": "light"
     },
     "output_type": "display_data"
    }
   ],
   "source": [
    "# Dividir os dados em conjuntos de treinamento e teste\n",
    "X_train, X_test, y_train, y_test = train_test_split(X, y, test_size=0.3, random_state=42,stratify=y)\n",
    "\n",
    "\n",
    " # Criando o pipeline com MinMaxScaler e XGBRegressor\n",
    "pipeline = Pipeline([\n",
    "        ('scaler', MinMaxScaler()),  # Normaliza os dados\n",
    "        ('xgbregressor', XGBRegressor(random_state=42))\n",
    "    ])\n",
    "\n",
    "# Definindo os parâmetros para Grid Search\n",
    "param_grid = {\n",
    "    'xgbregressor__n_estimators': [200,300,400],\n",
    "    'xgbregressor__learning_rate': [0.1,0.01]\n",
    "}\n",
    "    \n",
    "# Criando o objeto GridSearchCV\n",
    "grid_search = GridSearchCV(pipeline, param_grid, cv=5, scoring='r2')\n",
    "\n",
    "# Treinando o modelo usando Grid Search\n",
    "grid_search.fit(X_train, y_train)\n",
    "\n",
    "# Obtendo os melhores parâmetros encontrados\n",
    "best_params = grid_search.best_params_\n",
    "print(f\"Melhores parâmetros: {best_params}\\n\")\n",
    "\n",
    "# Fazendo previsões no conjunto de teste usando o melhor modelo do Grid Search\n",
    "y_pred = grid_search.predict(X_test)\n",
    "\n",
    "# Avaliando o desempenho do modelo\n",
    "mse = mean_squared_error(y_test, y_pred)\n",
    "r2 = r2_score(y_test, y_pred)\n",
    "\n",
    "# Imprima as métricas de avaliação\n",
    "print(f'Erro Quadrático Médio (MSE): {mse:.2f}\\n')\n",
    "print(f'Coeficiente de Determinação (R²): {r2:.2f}\\n')\n",
    "\n",
    "plt.scatter(y_test, y_pred)"
   ]
  }
 ],
 "metadata": {
  "kernelspec": {
   "display_name": "Python 3 (ipykernel)",
   "language": "python",
   "name": "python3"
  },
  "language_info": {
   "codemirror_mode": {
    "name": "ipython",
    "version": 3
   },
   "file_extension": ".py",
   "mimetype": "text/x-python",
   "name": "python",
   "nbconvert_exporter": "python",
   "pygments_lexer": "ipython3",
   "version": "3.9.12"
  }
 },
 "nbformat": 4,
 "nbformat_minor": 5
}
